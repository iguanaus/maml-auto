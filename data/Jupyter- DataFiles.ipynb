{
 "cells": [
  {
   "cell_type": "code",
   "execution_count": 1,
   "metadata": {},
   "outputs": [
    {
     "name": "stdout",
     "output_type": "stream",
     "text": [
      "hello\n"
     ]
    }
   ],
   "source": [
    "print(\"hello\")"
   ]
  },
  {
   "cell_type": "code",
   "execution_count": 1,
   "metadata": {
    "collapsed": true
   },
   "outputs": [],
   "source": [
    "import pickle \n",
    "import numpy as np"
   ]
  },
  {
   "cell_type": "code",
   "execution_count": 32,
   "metadata": {},
   "outputs": [],
   "source": [
    "#filename = \"C-sin_10-shot_legit_2.p\"\n",
    "#filename = \"C-sin_10-shot_legit_stateform.p\"\n",
    "filename = \"bounce-states_100-shot_2.p\"\n",
    "#filename = \"bounce-images_100-shot.p\"\n",
    "tasks = pickle.load(open(filename, \"rb\"))"
   ]
  },
  {
   "cell_type": "code",
   "execution_count": 33,
   "metadata": {
    "collapsed": true
   },
   "outputs": [],
   "source": [
    "firstTask = tasks['tasks_train'][0]\n",
    "data_firstTask = firstTask[0]\n",
    "info_firstTask = firstTask[1]\n",
    "traina = data_firstTask[0]\n",
    "trainb = data_firstTask[1]\n",
    "inputa = traina[0]\n",
    "labela = traina[1]\n",
    "\n",
    "inputb = trainb[0]\n",
    "labelb = trainb[1]"
   ]
  },
  {
   "cell_type": "code",
   "execution_count": 34,
   "metadata": {
    "scrolled": true
   },
   "outputs": [
    {
     "name": "stdout",
     "output_type": "stream",
     "text": [
      "100\n",
      "1000\n",
      "2\n",
      "2\n",
      "{u'z': array([ 5.43156591, 10.3998514 , 23.3517287 , 13.24550813, 23.82431626,\n",
      "       32.24375273,  8.19451581, 28.64767152])}\n",
      "2\n",
      "2\n",
      "100\n",
      "100\n",
      "(3, 2)\n",
      "(3, 2)\n",
      "(10, 2)\n",
      "(10, 2)\n"
     ]
    }
   ],
   "source": [
    "len(traina[0])\n",
    "print(len(tasks['tasks_train']))\n",
    "print(len(tasks['tasks_test']))\n",
    "print(len(firstTask))\n",
    "print(len(firstTask[0]))\n",
    "print(firstTask[1])\n",
    "print(len(traina))\n",
    "print(len(trainb))\n",
    "print(len(inputa))\n",
    "print(len(inputb))\n",
    "print(inputa[0].shape)\n",
    "print(inputb[1].shape)\n",
    "print(labela[0].shape)\n",
    "print(labelb[0].shape)"
   ]
  },
  {
   "cell_type": "code",
   "execution_count": 7,
   "metadata": {
    "collapsed": true
   },
   "outputs": [],
   "source": [
    "ina_new = np.tile(inputa,(10,3,2))"
   ]
  },
  {
   "cell_type": "code",
   "execution_count": 26,
   "metadata": {},
   "outputs": [
    {
     "name": "stdout",
     "output_type": "stream",
     "text": [
      "(10, 1)\n",
      "(10, 30, 2)\n",
      "(10, 1)\n",
      "[ 0.86400986 -4.93738031 -2.74120474 -2.20810604 -1.00739515 -1.43184173\n",
      " -0.14290087 -3.46777463  4.95875311 -1.11199522]\n"
     ]
    }
   ],
   "source": [
    "print(inputa.shape)\n",
    "print(ina_new.shape)\n",
    "print(labela.shape)\n",
    "print(inputb.ravel())"
   ]
  },
  {
   "cell_type": "code",
   "execution_count": 28,
   "metadata": {},
   "outputs": [
    {
     "name": "stdout",
     "output_type": "stream",
     "text": [
      "[[1]\n",
      " [2]\n",
      " [3]\n",
      " [4]]\n",
      "[1 2 3 4]\n"
     ]
    }
   ],
   "source": [
    "c = np.array([[1],[2],[3],[4]])\n",
    "print(c)\n",
    "print(c.ravel())"
   ]
  },
  {
   "cell_type": "code",
   "execution_count": 48,
   "metadata": {},
   "outputs": [
    {
     "name": "stdout",
     "output_type": "stream",
     "text": [
      "(10, 1)\n"
     ]
    },
    {
     "data": {
      "text/plain": [
       "(10, 3, 2)"
      ]
     },
     "execution_count": 48,
     "metadata": {},
     "output_type": "execute_result"
    }
   ],
   "source": [
    "c = inputa\n",
    "print(c.shape)\n",
    "np.tile(c.ravel(),(6,1)).transpose().reshape(-1,3,2).shape"
   ]
  },
  {
   "cell_type": "code",
   "execution_count": 18,
   "metadata": {},
   "outputs": [
    {
     "name": "stdout",
     "output_type": "stream",
     "text": [
      "(4, 1)\n"
     ]
    }
   ],
   "source": [
    "print(c.shape)"
   ]
  },
  {
   "cell_type": "code",
   "execution_count": 26,
   "metadata": {},
   "outputs": [
    {
     "ename": "IndentationError",
     "evalue": "unexpected indent (<ipython-input-26-0f0546e2e6bb>, line 2)",
     "output_type": "error",
     "traceback": [
      "\u001b[0;36m  File \u001b[0;32m\"<ipython-input-26-0f0546e2e6bb>\"\u001b[0;36m, line \u001b[0;32m2\u001b[0m\n\u001b[0;31m    xCords = list(boxCords[:,0])\u001b[0m\n\u001b[0m    ^\u001b[0m\n\u001b[0;31mIndentationError\u001b[0m\u001b[0;31m:\u001b[0m unexpected indent\n"
     ]
    }
   ],
   "source": [
    "boxCords = info['z'].reshape(-1,2)*.025\n",
    "            xCords = list(boxCords[:,0])\n",
    "            yCords = list(boxCords[:,1])\n",
    "            #Add last element to it.\n",
    "            xCords.append(xCords[0])\n",
    "            yCords.append(yCords[0])\n",
    "            if shouldPlot:\n",
    "                plt.plot(xCords,yCords)\n",
    "            inputa = data[0][0].reshape(-1,6)"
   ]
  },
  {
   "cell_type": "code",
   "execution_count": 97,
   "metadata": {
    "collapsed": true
   },
   "outputs": [],
   "source": [
    "task = firstTask"
   ]
  },
  {
   "cell_type": "code",
   "execution_count": 102,
   "metadata": {},
   "outputs": [
    {
     "name": "stdout",
     "output_type": "stream",
     "text": [
      "(3, 2)\n"
     ]
    }
   ],
   "source": [
    "data = task[0]\n",
    "info = task[1]\n",
    "boxCords = info['z'].reshape(-1,2)*.025\n",
    "xCords = list(boxCords[:,0])\n",
    "yCords = list(boxCords[:,1])\n",
    "#Add last element to it.\n",
    "xCords.append(xCords[0])\n",
    "yCords.append(yCords[0])\n",
    "inputa = data[0][0][0]\n",
    "print(inputa.shape)\n",
    "#inputa = data[0][0].reshape(-1,6)"
   ]
  },
  {
   "cell_type": "code",
   "execution_count": 39,
   "metadata": {},
   "outputs": [
    {
     "name": "stdout",
     "output_type": "stream",
     "text": [
      "(100, 6)\n"
     ]
    }
   ],
   "source": [
    "print(inputa.shape)"
   ]
  },
  {
   "cell_type": "code",
   "execution_count": 43,
   "metadata": {},
   "outputs": [
    {
     "name": "stdout",
     "output_type": "stream",
     "text": [
      "[[0.25312698 0.64237946]\n",
      " [0.22848836 0.6907153 ]\n",
      " [0.3200658  0.72145456]]\n"
     ]
    }
   ],
   "source": [
    "val = data[0][0][0]\n",
    "print(val)"
   ]
  },
  {
   "cell_type": "code",
   "execution_count": 63,
   "metadata": {},
   "outputs": [
    {
     "name": "stdout",
     "output_type": "stream",
     "text": [
      "[[[0.25312698]\n",
      "  [0.64237946]]\n",
      "\n",
      " [[0.22848836]\n",
      "  [0.6907153 ]]\n",
      "\n",
      " [[0.3200658 ]\n",
      "  [0.72145456]]]\n",
      "(3, 2, 1)\n",
      "(3, 2, 2)\n",
      "[[[0.25312698 0.25312698]\n",
      "  [0.64237946 0.64237946]]\n",
      "\n",
      " [[0.22848836 0.22848836]\n",
      "  [0.6907153  0.6907153 ]]\n",
      "\n",
      " [[0.3200658  0.3200658 ]\n",
      "  [0.72145456 0.72145456]]]\n"
     ]
    }
   ],
   "source": [
    "print(val)\n",
    "val = val.reshape(3,-1,1)\n",
    "print(val.shape)\n",
    "newval = np.tile(val,(1,1,2))\n",
    "print(newval.shape)\n",
    "print(newval)"
   ]
  },
  {
   "cell_type": "code",
   "execution_count": 81,
   "metadata": {},
   "outputs": [
    {
     "data": {
      "text/plain": [
       "array([[0.25312698, 0.64237946],\n",
       "       [0.22848836, 0.6907153 ],\n",
       "       [0.3200658 , 0.72145456]], dtype=float32)"
      ]
     },
     "execution_count": 81,
     "metadata": {},
     "output_type": "execute_result"
    }
   ],
   "source": [
    "task[0][0][0].shape\n",
    "task[0][0][0][0]"
   ]
  },
  {
   "cell_type": "code",
   "execution_count": 79,
   "metadata": {},
   "outputs": [
    {
     "data": {
      "text/plain": [
       "(100, 3, 2, 1)"
      ]
     },
     "execution_count": 79,
     "metadata": {},
     "output_type": "execute_result"
    }
   ],
   "source": [
    "newval = task[0][0][0].reshape(-1,3,2,1)\n",
    "newval.shape"
   ]
  },
  {
   "cell_type": "code",
   "execution_count": 80,
   "metadata": {},
   "outputs": [
    {
     "data": {
      "text/plain": [
       "(100, 3, 2, 2)"
      ]
     },
     "execution_count": 80,
     "metadata": {},
     "output_type": "execute_result"
    }
   ],
   "source": [
    "data[0][1][:,0:1,:]\n",
    "fin.shape"
   ]
  },
  {
   "cell_type": "code",
   "execution_count": 82,
   "metadata": {},
   "outputs": [
    {
     "data": {
      "text/plain": [
       "array([[[0.25312698, 0.25312698],\n",
       "        [0.64237946, 0.64237946]],\n",
       "\n",
       "       [[0.22848836, 0.22848836],\n",
       "        [0.6907153 , 0.6907153 ]],\n",
       "\n",
       "       [[0.3200658 , 0.3200658 ],\n",
       "        [0.72145456, 0.72145456]]], dtype=float32)"
      ]
     },
     "execution_count": 82,
     "metadata": {},
     "output_type": "execute_result"
    }
   ],
   "source": [
    "fin[0]"
   ]
  },
  {
   "cell_type": "code",
   "execution_count": 87,
   "metadata": {},
   "outputs": [
    {
     "data": {
      "text/plain": [
       "(100, 1, 2, 1)"
      ]
     },
     "execution_count": 87,
     "metadata": {},
     "output_type": "execute_result"
    }
   ],
   "source": [
    "data[0][1][:,0:1,:].reshape(-1,1,2,1).shape"
   ]
  },
  {
   "cell_type": "code",
   "execution_count": 90,
   "metadata": {},
   "outputs": [
    {
     "data": {
      "text/plain": [
       "(100, 1, 2, 2)"
      ]
     },
     "execution_count": 90,
     "metadata": {},
     "output_type": "execute_result"
    }
   ],
   "source": [
    "np.tile(data[0][1][:,0:1,:].reshape(-1,1,2,1),(1,1,1,2)).shape"
   ]
  },
  {
   "cell_type": "code",
   "execution_count": 91,
   "metadata": {},
   "outputs": [
    {
     "data": {
      "text/plain": [
       "(100, 3, 2, 2)"
      ]
     },
     "execution_count": 91,
     "metadata": {},
     "output_type": "execute_result"
    }
   ],
   "source": [
    "fin.shape"
   ]
  },
  {
   "cell_type": "code",
   "execution_count": 113,
   "metadata": {
    "collapsed": true
   },
   "outputs": [],
   "source": [
    "inputs = np.vstack((fin,fin))\n",
    "inputs = inputs.reshape(1,-1,3,2,2)"
   ]
  },
  {
   "cell_type": "code",
   "execution_count": 114,
   "metadata": {},
   "outputs": [
    {
     "data": {
      "text/plain": [
       "(1, 200, 3, 2, 2)"
      ]
     },
     "execution_count": 114,
     "metadata": {},
     "output_type": "execute_result"
    }
   ],
   "source": [
    "inputs.shape"
   ]
  },
  {
   "cell_type": "code",
   "execution_count": 100,
   "metadata": {},
   "outputs": [],
   "source": [
    "data = task[0]"
   ]
  },
  {
   "cell_type": "code",
   "execution_count": 107,
   "metadata": {},
   "outputs": [
    {
     "name": "stdout",
     "output_type": "stream",
     "text": [
      "(100, 3, 2)\n"
     ]
    }
   ],
   "source": [
    "print(data[0][0].shape)"
   ]
  },
  {
   "cell_type": "code",
   "execution_count": 109,
   "metadata": {},
   "outputs": [],
   "source": [
    "data = task[0]\n",
    "info = task[1]\n",
    "boxCords = info['z'].reshape(-1,2)*.025\n",
    "xCords = list(boxCords[:,0])\n",
    "yCords = list(boxCords[:,1])\n",
    "#Add last element to it.\n",
    "xCords.append(xCords[0])\n",
    "yCords.append(yCords[0])\n",
    "inputa = data[0][0].reshape(-1,6) # This is doing exactly what we want\n",
    "onlyNextLabela = data[0][1][:,0:1,:].reshape(-1,2)\n",
    "inputb = data[1][0].reshape(-1,6)\n",
    "onlyNextLabelb = data[1][1][:,0:1,:].reshape(-1,2) #This was pulling from the same set. \n",
    "inputs = np.vstack((inputa,inputb))\n",
    "inputs = inputs.reshape(1,-1,6)\n",
    "labels = np.vstack((onlyNextLabela,onlyNextLabelb)).reshape(1,-1,2)"
   ]
  },
  {
   "cell_type": "code",
   "execution_count": 110,
   "metadata": {},
   "outputs": [
    {
     "data": {
      "text/plain": [
       "(100, 6)"
      ]
     },
     "execution_count": 110,
     "metadata": {},
     "output_type": "execute_result"
    }
   ],
   "source": [
    "inputa.shape"
   ]
  },
  {
   "cell_type": "code",
   "execution_count": 111,
   "metadata": {},
   "outputs": [
    {
     "data": {
      "text/plain": [
       "(100, 6)"
      ]
     },
     "execution_count": 111,
     "metadata": {},
     "output_type": "execute_result"
    }
   ],
   "source": [
    "inputb.shape"
   ]
  },
  {
   "cell_type": "code",
   "execution_count": 112,
   "metadata": {},
   "outputs": [
    {
     "data": {
      "text/plain": [
       "(1, 200, 6)"
      ]
     },
     "execution_count": 112,
     "metadata": {},
     "output_type": "execute_result"
    }
   ],
   "source": [
    "inputs.shape"
   ]
  },
  {
   "cell_type": "code",
   "execution_count": null,
   "metadata": {
    "collapsed": true
   },
   "outputs": [],
   "source": []
  }
 ],
 "metadata": {
  "kernelspec": {
   "display_name": "Python 2",
   "language": "python",
   "name": "python2"
  },
  "language_info": {
   "codemirror_mode": {
    "name": "ipython",
    "version": 2
   },
   "file_extension": ".py",
   "mimetype": "text/x-python",
   "name": "python",
   "nbconvert_exporter": "python",
   "pygments_lexer": "ipython2",
   "version": "2.7.14"
  }
 },
 "nbformat": 4,
 "nbformat_minor": 2
}
